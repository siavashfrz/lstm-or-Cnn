{
 "cells": [
  {
   "cell_type": "markdown",
   "metadata": {
    "_uuid": "a7bdd93ed8478235c2a290608f69054dd90df29d"
   },
   "source": [
    "![](https://diginomica.com/wp-content/uploads/2015/10/american-airlines1.jpg)"
   ]
  },
  {
   "cell_type": "markdown",
   "metadata": {
    "_uuid": "1b69186dc6ab9470dcbbef3451d55824b888f8af"
   },
   "source": [
    "# 1. Import"
   ]
  },
  {
   "cell_type": "code",
   "execution_count": 1,
   "metadata": {
    "_uuid": "e8f35d2c74c370d4b01dc540862a67254031e8b5"
   },
   "outputs": [
    {
     "name": "stderr",
     "output_type": "stream",
     "text": [
      "C:\\Users\\Win 1809 UEFI\\Anaconda3\\lib\\site-packages\\sklearn\\ensemble\\weight_boosting.py:29: DeprecationWarning: numpy.core.umath_tests is an internal NumPy module and should not be imported. It will be removed in a future NumPy release.\n",
      "  from numpy.core.umath_tests import inner1d\n",
      "Using TensorFlow backend.\n"
     ]
    }
   ],
   "source": [
    "# System\n",
    "import os\n",
    "\n",
    "# Time\n",
    "import time\n",
    "import datetime\n",
    "\n",
    "# Numerical\n",
    "import numpy as np\n",
    "import pandas as pd\n",
    "\n",
    "# Tools\n",
    "import itertools\n",
    "from collections import Counter\n",
    "\n",
    "# NLP\n",
    "import re\n",
    "from nltk.corpus import stopwords\n",
    "from nltk.tokenize import word_tokenize \n",
    "from nltk.stem import SnowballStemmer\n",
    "from nltk.stem import PorterStemmer\n",
    "from nltk.stem import WordNetLemmatizer\n",
    "# from pywsd.utils import lemmatize_sentence\n",
    "\n",
    "# Preprocessing\n",
    "from sklearn import preprocessing\n",
    "from sklearn.utils import class_weight as cw\n",
    "from sklearn.feature_extraction.text import CountVectorizer\n",
    "from sklearn.preprocessing import StandardScaler\n",
    "from sklearn.preprocessing import LabelEncoder\n",
    "from sklearn.model_selection import train_test_split\n",
    "from sklearn.feature_extraction.text import TfidfVectorizer\n",
    "from bs4 import BeautifulSoup\n",
    "\n",
    "# Model Selection\n",
    "from sklearn.model_selection import train_test_split, cross_val_score, GridSearchCV\n",
    "\n",
    "# Machine Learning Models\n",
    "from sklearn.linear_model import LogisticRegression\n",
    "from sklearn import svm\n",
    "from sklearn.svm import SVC\n",
    "from sklearn.naive_bayes import MultinomialNB\n",
    "from sklearn.neighbors import KNeighborsClassifier\n",
    "from sklearn.ensemble import AdaBoostClassifier, RandomForestClassifier, BaggingClassifier, ExtraTreesClassifier\n",
    "from sklearn.tree import DecisionTreeClassifier\n",
    "\n",
    "# Evaluation Metrics\n",
    "from sklearn import metrics \n",
    "from sklearn.metrics import f1_score, accuracy_score,confusion_matrix,classification_report\n",
    "\n",
    "# Deep Learing Preprocessing - Keras\n",
    "from keras.preprocessing.text import Tokenizer\n",
    "from keras.preprocessing import sequence\n",
    "from keras.utils import to_categorical\n",
    "\n",
    "# Deep Learning Model - Keras\n",
    "from keras.models import Model\n",
    "from keras.models import Sequential\n",
    "\n",
    "# Deep Learning Model - Keras - CNN\n",
    "from keras.layers import Conv1D, Conv2D, Convolution1D, MaxPooling1D, SeparableConv1D, SpatialDropout1D, \\\n",
    "    GlobalAvgPool1D, GlobalMaxPool1D, GlobalMaxPooling1D \n",
    "from keras.layers.pooling import _GlobalPooling1D\n",
    "from keras.layers import MaxPooling2D, GlobalMaxPooling2D, GlobalAveragePooling2D\n",
    "\n",
    "from keras.layers import MaxPooling3D, GlobalMaxPooling3D, GlobalAveragePooling3D\n",
    "\n",
    "\n",
    "\n",
    "# Deep Learning Model - Keras - RNN\n",
    "from keras.layers import Embedding, LSTM, Bidirectional\n",
    "\n",
    "# Deep Learning Model - Keras - General\n",
    "from keras.layers import Input, Add, concatenate, Dense, Activation, BatchNormalization, Dropout, Flatten\n",
    "from keras.layers import LeakyReLU, PReLU, Lambda, Multiply\n",
    "\n",
    "\n",
    "\n",
    "# Deep Learning Parameters - Keras\n",
    "from keras.optimizers import RMSprop, Adam\n",
    "\n",
    "# Deep Learning Callbacs - Keras\n",
    "from keras.callbacks import ModelCheckpoint, EarlyStopping, TensorBoard, ReduceLROnPlateau\n",
    "\n",
    "# Visualization\n",
    "import matplotlib.pyplot as plt\n",
    "import seaborn as sns\n",
    "\n",
    "%matplotlib inline\n",
    "\n",
    "#print(os.listdir(\"../input\"))"
   ]
  },
  {
   "cell_type": "code",
   "execution_count": 2,
   "metadata": {
    "_uuid": "bcf244fb2623377e6c472520181f55b570f22225"
   },
   "outputs": [],
   "source": [
    "# print date and time for given type of representation\n",
    "def date_time(x):\n",
    "    if x==1:\n",
    "        return 'Timestamp: {:%Y-%m-%d %H:%M:%S}'.format(datetime.datetime.now())\n",
    "    if x==2:    \n",
    "        return 'Timestamp: {:%Y-%b-%d %H:%M:%S}'.format(datetime.datetime.now())\n",
    "    if x==3:  \n",
    "        return 'Date now: %s' % datetime.datetime.now()\n",
    "    if x==4:  \n",
    "        return 'Date today: %s' % datetime.date.today() "
   ]
  },
  {
   "cell_type": "markdown",
   "metadata": {
    "_uuid": "f9941e463091c0974df63b98ddf42ef039d07044"
   },
   "source": [
    "# 2. Read Data"
   ]
  },
  {
   "cell_type": "code",
   "execution_count": 10,
   "metadata": {
    "_uuid": "24a1fce867bde9c19af86e6ad3fdcc9368db4907"
   },
   "outputs": [],
   "source": [
    "input_directory = r\"C:\\\\Users\\\\Win 1809 UEFI\\\\Desktop\\\\1.csv\"\n",
    "output_directory = r\"C:\\\\Users\\\\Win 1809 UEFI\\\\Desktop\\\\Tweetss.csv\"\n",
    "\n",
    "if not os.path.exists(output_directory):\n",
    "    os.mkdir(output_directory)\n",
    "    \n",
    "figure_directory = \"C:\\\\Users\\\\Win 1809 UEFI\\\\Desktop\\\\figures\"\n",
    "if not os.path.exists(figure_directory):\n",
    "    os.mkdir(figure_directory)\n",
    "    \n",
    "    \n",
    "file_name_pred_batch = figure_directory+r\"/result\"\n",
    "file_name_pred_sample = figure_directory+r\"/sample\""
   ]
  },
  {
   "cell_type": "code",
   "execution_count": 3,
   "metadata": {
    "_cell_guid": "79c7e3d0-c299-4dcb-8224-4455121ee9b0",
    "_uuid": "d629ff2d2480ee46fbb7e2d37f6b5fab8052498a"
   },
   "outputs": [],
   "source": [
    "df = pd.read_csv(\"C:\\\\Users\\\\Win 1809 UEFI\\\\Desktop\\\\001.csv\")"
   ]
  },
  {
   "cell_type": "code",
   "execution_count": 4,
   "metadata": {
    "_uuid": "82c38ef0a849c0e1b35dfaa6609497033690ecb3"
   },
   "outputs": [
    {
     "data": {
      "text/html": [
       "<div>\n",
       "<style scoped>\n",
       "    .dataframe tbody tr th:only-of-type {\n",
       "        vertical-align: middle;\n",
       "    }\n",
       "\n",
       "    .dataframe tbody tr th {\n",
       "        vertical-align: top;\n",
       "    }\n",
       "\n",
       "    .dataframe thead th {\n",
       "        text-align: right;\n",
       "    }\n",
       "</style>\n",
       "<table border=\"1\" class=\"dataframe\">\n",
       "  <thead>\n",
       "    <tr style=\"text-align: right;\">\n",
       "      <th></th>\n",
       "      <th>airline</th>\n",
       "      <th>review_date</th>\n",
       "      <th>Type_Of_Traveller</th>\n",
       "      <th>seat_type</th>\n",
       "      <th>Seat_Comfort</th>\n",
       "      <th>Cabin_Staff</th>\n",
       "      <th>Food_Beverages</th>\n",
       "      <th>Inflight_Entertainment</th>\n",
       "      <th>Ground_Service</th>\n",
       "      <th>Wifi_Connectivity</th>\n",
       "      <th>Value_Money</th>\n",
       "      <th>airline_sentiment</th>\n",
       "      <th>Recommended</th>\n",
       "      <th>overal_rating</th>\n",
       "      <th>title</th>\n",
       "      <th>review</th>\n",
       "      <th>pos</th>\n",
       "      <th>neg</th>\n",
       "      <th>neu</th>\n",
       "      <th>compound</th>\n",
       "    </tr>\n",
       "  </thead>\n",
       "  <tbody>\n",
       "    <tr>\n",
       "      <th>0</th>\n",
       "      <td>air arabia</td>\n",
       "      <td>2015</td>\n",
       "      <td>Family Leisure</td>\n",
       "      <td>Economy Class</td>\n",
       "      <td>5.0</td>\n",
       "      <td>4.0</td>\n",
       "      <td>NaN</td>\n",
       "      <td>NaN</td>\n",
       "      <td>3.0</td>\n",
       "      <td>NaN</td>\n",
       "      <td>3</td>\n",
       "      <td>Neutral</td>\n",
       "      <td>0</td>\n",
       "      <td>3</td>\n",
       "      <td>seats offer good legroom</td>\n",
       "      <td>I travelled Air Arabia from Delhi to Sharjah, ...</td>\n",
       "      <td>0.049</td>\n",
       "      <td>0.181</td>\n",
       "      <td>0.771</td>\n",
       "      <td>-0.7845</td>\n",
       "    </tr>\n",
       "    <tr>\n",
       "      <th>1</th>\n",
       "      <td>air arabia</td>\n",
       "      <td>2015</td>\n",
       "      <td>Family Leisure</td>\n",
       "      <td>Economy Class</td>\n",
       "      <td>3.0</td>\n",
       "      <td>3.0</td>\n",
       "      <td>1.0</td>\n",
       "      <td>1.0</td>\n",
       "      <td>1.0</td>\n",
       "      <td>NaN</td>\n",
       "      <td>2</td>\n",
       "      <td>Positive</td>\n",
       "      <td>0</td>\n",
       "      <td>1</td>\n",
       "      <td>very bad experience</td>\n",
       "      <td>Amman to Kuwait. I had a very bad experience w...</td>\n",
       "      <td>0.013</td>\n",
       "      <td>0.153</td>\n",
       "      <td>0.835</td>\n",
       "      <td>-0.9274</td>\n",
       "    </tr>\n",
       "    <tr>\n",
       "      <th>2</th>\n",
       "      <td>air arabia</td>\n",
       "      <td>2015</td>\n",
       "      <td>Solo Leisure</td>\n",
       "      <td>Economy Class</td>\n",
       "      <td>2.0</td>\n",
       "      <td>2.0</td>\n",
       "      <td>NaN</td>\n",
       "      <td>NaN</td>\n",
       "      <td>1.0</td>\n",
       "      <td>NaN</td>\n",
       "      <td>2</td>\n",
       "      <td>Negative</td>\n",
       "      <td>0</td>\n",
       "      <td>4</td>\n",
       "      <td>most economical ticket</td>\n",
       "      <td>That was my first experience on Air Arabia. I ...</td>\n",
       "      <td>0.159</td>\n",
       "      <td>0.121</td>\n",
       "      <td>0.720</td>\n",
       "      <td>0.5733</td>\n",
       "    </tr>\n",
       "    <tr>\n",
       "      <th>3</th>\n",
       "      <td>air arabia</td>\n",
       "      <td>2015</td>\n",
       "      <td>Business</td>\n",
       "      <td>Economy Class</td>\n",
       "      <td>1.0</td>\n",
       "      <td>3.0</td>\n",
       "      <td>1.0</td>\n",
       "      <td>2.0</td>\n",
       "      <td>2.0</td>\n",
       "      <td>1.0</td>\n",
       "      <td>3</td>\n",
       "      <td>Neutral</td>\n",
       "      <td>0</td>\n",
       "      <td>3</td>\n",
       "      <td>not a trustworthy airline</td>\n",
       "      <td>That was my first experience on Air Arabia. I ...</td>\n",
       "      <td>0.056</td>\n",
       "      <td>0.127</td>\n",
       "      <td>0.818</td>\n",
       "      <td>-0.4924</td>\n",
       "    </tr>\n",
       "    <tr>\n",
       "      <th>4</th>\n",
       "      <td>air arabia</td>\n",
       "      <td>2015</td>\n",
       "      <td>Family Leisure</td>\n",
       "      <td>Economy Class</td>\n",
       "      <td>4.0</td>\n",
       "      <td>4.0</td>\n",
       "      <td>4.0</td>\n",
       "      <td>2.0</td>\n",
       "      <td>3.0</td>\n",
       "      <td>2.0</td>\n",
       "      <td>4</td>\n",
       "      <td>Negative</td>\n",
       "      <td>1</td>\n",
       "      <td>6</td>\n",
       "      <td>Air Arabia customer review</td>\n",
       "      <td>The flight was good, the price of the ticket w...</td>\n",
       "      <td>0.250</td>\n",
       "      <td>0.104</td>\n",
       "      <td>0.646</td>\n",
       "      <td>0.9300</td>\n",
       "    </tr>\n",
       "  </tbody>\n",
       "</table>\n",
       "</div>"
      ],
      "text/plain": [
       "      airline  review_date Type_Of_Traveller      seat_type  Seat_Comfort  \\\n",
       "0  air arabia         2015    Family Leisure  Economy Class           5.0   \n",
       "1  air arabia         2015    Family Leisure  Economy Class           3.0   \n",
       "2  air arabia         2015      Solo Leisure  Economy Class           2.0   \n",
       "3  air arabia         2015          Business  Economy Class           1.0   \n",
       "4  air arabia         2015    Family Leisure  Economy Class           4.0   \n",
       "\n",
       "   Cabin_Staff  Food_Beverages  Inflight_Entertainment  Ground_Service  \\\n",
       "0          4.0             NaN                     NaN             3.0   \n",
       "1          3.0             1.0                     1.0             1.0   \n",
       "2          2.0             NaN                     NaN             1.0   \n",
       "3          3.0             1.0                     2.0             2.0   \n",
       "4          4.0             4.0                     2.0             3.0   \n",
       "\n",
       "   Wifi_Connectivity  Value_Money airline_sentiment  Recommended  \\\n",
       "0                NaN            3           Neutral            0   \n",
       "1                NaN            2          Positive            0   \n",
       "2                NaN            2          Negative            0   \n",
       "3                1.0            3           Neutral            0   \n",
       "4                2.0            4          Negative            1   \n",
       "\n",
       "   overal_rating                       title  \\\n",
       "0              3    seats offer good legroom   \n",
       "1              1         very bad experience   \n",
       "2              4      most economical ticket   \n",
       "3              3   not a trustworthy airline   \n",
       "4              6  Air Arabia customer review   \n",
       "\n",
       "                                              review    pos    neg    neu  \\\n",
       "0  I travelled Air Arabia from Delhi to Sharjah, ...  0.049  0.181  0.771   \n",
       "1  Amman to Kuwait. I had a very bad experience w...  0.013  0.153  0.835   \n",
       "2  That was my first experience on Air Arabia. I ...  0.159  0.121  0.720   \n",
       "3  That was my first experience on Air Arabia. I ...  0.056  0.127  0.818   \n",
       "4  The flight was good, the price of the ticket w...  0.250  0.104  0.646   \n",
       "\n",
       "   compound  \n",
       "0   -0.7845  \n",
       "1   -0.9274  \n",
       "2    0.5733  \n",
       "3   -0.4924  \n",
       "4    0.9300  "
      ]
     },
     "execution_count": 4,
     "metadata": {},
     "output_type": "execute_result"
    }
   ],
   "source": [
    "df.head()"
   ]
  },
  {
   "cell_type": "code",
   "execution_count": 5,
   "metadata": {
    "_kg_hide-input": true,
    "_uuid": "5cf2744b1ea01acdb6e9100bba9c3e2a41833de0"
   },
   "outputs": [
    {
     "name": "stdout",
     "output_type": "stream",
     "text": [
      "<class 'pandas.core.frame.DataFrame'>\n",
      "RangeIndex: 4854 entries, 0 to 4853\n",
      "Data columns (total 20 columns):\n",
      "airline                   4854 non-null object\n",
      "review_date               4854 non-null int64\n",
      "Type_Of_Traveller         4854 non-null object\n",
      "seat_type                 4854 non-null object\n",
      "Seat_Comfort              4777 non-null float64\n",
      "Cabin_Staff               4771 non-null float64\n",
      "Food_Beverages            4576 non-null float64\n",
      "Inflight_Entertainment    4328 non-null float64\n",
      "Ground_Service            4819 non-null float64\n",
      "Wifi_Connectivity         2223 non-null float64\n",
      "Value_Money               4854 non-null int64\n",
      "airline_sentiment         4854 non-null object\n",
      "Recommended               4854 non-null int64\n",
      "overal_rating             4854 non-null int64\n",
      "title                     4854 non-null object\n",
      "review                    4854 non-null object\n",
      "pos                       4854 non-null float64\n",
      "neg                       4854 non-null float64\n",
      "neu                       4854 non-null float64\n",
      "compound                  4854 non-null float64\n",
      "dtypes: float64(10), int64(4), object(6)\n",
      "memory usage: 758.5+ KB\n"
     ]
    }
   ],
   "source": [
    "df.info()"
   ]
  },
  {
   "cell_type": "code",
   "execution_count": 6,
   "metadata": {
    "_kg_hide-input": true,
    "_uuid": "cd9d8e8cccbe7be826ff80ebba85c94059b19d81"
   },
   "outputs": [
    {
     "data": {
      "text/plain": [
       "Index(['airline', 'review_date', 'Type_Of_Traveller', 'seat_type',\n",
       "       'Seat_Comfort', 'Cabin_Staff', 'Food_Beverages',\n",
       "       'Inflight_Entertainment', 'Ground_Service', 'Wifi_Connectivity',\n",
       "       'Value_Money', 'airline_sentiment', 'Recommended', 'overal_rating',\n",
       "       'title', 'review', 'pos', 'neg', 'neu', 'compound'],\n",
       "      dtype='object')"
      ]
     },
     "execution_count": 6,
     "metadata": {},
     "output_type": "execute_result"
    }
   ],
   "source": [
    "columns = df.columns\n",
    "columns"
   ]
  },
  {
   "cell_type": "markdown",
   "metadata": {
    "_uuid": "13bfcbe5c9e172fad039501b7c6604dc81abe010"
   },
   "source": [
    "# 3. Visualize Data"
   ]
  },
  {
   "cell_type": "code",
   "execution_count": 7,
   "metadata": {
    "_uuid": "0ffeb6d063fb09a80db926657faddf0c719333b5"
   },
   "outputs": [
    {
     "data": {
      "text/plain": [
       "[]"
      ]
     },
     "execution_count": 7,
     "metadata": {},
     "output_type": "execute_result"
    },
    {
     "data": {
      "image/png": "[encoded data removed]",
      "text/plain": [
       "<Figure size 1440x360 with 2 Axes>"
      ]
     },
     "metadata": {
      "needs_background": "light"
     },
     "output_type": "display_data"
    }
   ],
   "source": [
    "figsize=(20, 5)\n",
    "\n",
    "ticksize = 14\n",
    "titlesize = ticksize + 8\n",
    "labelsize = ticksize + 5\n",
    "\n",
    "params = {'figure.figsize' : figsize,\n",
    "          'axes.labelsize' : labelsize,\n",
    "          'axes.titlesize' : titlesize,\n",
    "          'xtick.labelsize': ticksize,\n",
    "          'ytick.labelsize': ticksize}\n",
    "\n",
    "plt.rcParams.update(params)\n",
    "\n",
    "plt.subplot(121)\n",
    "col = \"airline\"\n",
    "xlabel = \"Airlines\"\n",
    "ylabel = \"Count\"\n",
    "\n",
    "sns.countplot(x=df[col])\n",
    "plt.title(\"Airlines Review Count\")\n",
    "plt.xticks(rotation=90)\n",
    "plt.xlabel(xlabel)\n",
    "plt.ylabel(ylabel)\n",
    "\n",
    "\n",
    "plt.subplot(122)\n",
    "col = \"airline_sentiment\"\n",
    "xlabel = \"Sentiment\"\n",
    "ylabel = \"Count\"\n",
    "sns.countplot(df[col])\n",
    "plt.title(\"Review Sentiment Count\")\n",
    "plt.xlabel(xlabel)\n",
    "plt.ylabel(ylabel)\n",
    "plt.xticks(rotation=90)\n",
    "plt.plot()"
   ]
  },
  {
   "cell_type": "markdown",
   "metadata": {
    "_uuid": "d9ccaeb7b9230429515785e84ae9b36d15e1ac70"
   },
   "source": [
    "Note:\n",
    "1. Most of the review present here are negative.\n",
    "2. Highest number of tweets are about \"United Airlines\", \"US Airlines\" and \"American Airlines\""
   ]
  },
  {
   "cell_type": "code",
   "execution_count": 8,
   "metadata": {
    "_uuid": "6415fba24b67ddc166a43327d1327bc8c75f7f2c"
   },
   "outputs": [
    {
     "data": {
      "text/plain": [
       "[]"
      ]
     },
     "execution_count": 8,
     "metadata": {},
     "output_type": "execute_result"
    },
    {
     "data": {
      "image/png": "[encoded data removed]",
      "text/plain": [
       "<Figure size 1440x360 with 1 Axes>"
      ]
     },
     "metadata": {
      "needs_background": "light"
     },
     "output_type": "display_data"
    }
   ],
   "source": [
    "figsize=(20, 5)\n",
    "\n",
    "ticksize = 14\n",
    "titlesize = ticksize + 8\n",
    "labelsize = ticksize + 5\n",
    "\n",
    "xlabel = \"Airlines\"\n",
    "ylabel = \"Count\"\n",
    "\n",
    "title = \"sentiment analysis\"\n",
    "\n",
    "\n",
    "params = {'figure.figsize' : figsize,\n",
    "          'axes.labelsize' : labelsize,\n",
    "          'axes.titlesize' : titlesize,\n",
    "          'xtick.labelsize': ticksize,\n",
    "          'ytick.labelsize': ticksize}\n",
    "\n",
    "plt.rcParams.update(params)\n",
    "\n",
    "col1 = \"airline\"\n",
    "col2 = \"airline_sentiment\"\n",
    "sns.countplot(x=df[col1], hue=df[col2])\n",
    "plt.title(title)\n",
    "plt.xlabel(xlabel)\n",
    "plt.ylabel(ylabel)\n",
    "plt.xticks(rotation=90)\n",
    "plt.plot()"
   ]
  },
  {
   "cell_type": "markdown",
   "metadata": {
    "_uuid": "0ee91b5d86edbe0bd0e18faf300fcfd53c3e4ad4"
   },
   "source": [
    "Note:\n",
    "1. Most of the negative tweets are about \"Customer Service Issue\"."
   ]
  },
  {
   "cell_type": "code",
   "execution_count": 10,
   "metadata": {
    "_uuid": "120e55e73a76526029cb3ffd648980ce11d8c8d5"
   },
   "outputs": [
    {
     "data": {
      "text/plain": [
       "[]"
      ]
     },
     "execution_count": 10,
     "metadata": {},
     "output_type": "execute_result"
    },
    {
     "data": {
      "image/png": "[encoded data removed]",
      "text/plain": [
       "<Figure size 1440x360 with 1 Axes>"
      ]
     },
     "metadata": {},
     "output_type": "display_data"
    }
   ],
   "source": [
    "figsize=(20, 5)\n",
    "\n",
    "ticksize = 14\n",
    "titlesize = ticksize + 8\n",
    "labelsize = ticksize + 5\n",
    "\n",
    "xlabel = \"Airlines\"\n",
    "ylabel = \"Count\"\n",
    "\n",
    "\n",
    "params = {'figure.figsize' : figsize,\n",
    "          'axes.labelsize' : labelsize,\n",
    "          'axes.titlesize' : titlesize,\n",
    "          'xtick.labelsize': ticksize,\n",
    "          'ytick.labelsize': ticksize}\n",
    "\n",
    "plt.rcParams.update(params)\n",
    "\n",
    "plt.figure(figsize=figsize)\n",
    "col1 = \"airline\"\n",
    "col2 = \"airline_sentiment\"\n",
    "sns.countplot(x=df[col1], hue=df[col2])\n",
    "plt.xlabel(xlabel)\n",
    "plt.ylabel(ylabel)\n",
    "plt.xticks(rotation=90)\n",
    "plt.plot()\n"
   ]
  },
  {
   "cell_type": "code",
   "execution_count": 10,
   "metadata": {
    "_uuid": "1176c686fb26135f757d5fc98d264fffecee47aa"
   },
   "outputs": [
    {
     "name": "stderr",
     "output_type": "stream",
     "text": [
      "C:\\Users\\Win 1809 UEFI\\Anaconda3\\lib\\site-packages\\scipy\\stats\\stats.py:1713: FutureWarning: Using a non-tuple sequence for multidimensional indexing is deprecated; use `arr[tuple(seq)]` instead of `arr[seq]`. In the future this will be interpreted as an array index, `arr[np.array(seq)]`, which will result either in an error or a different result.\n",
      "  return np.add.reduce(sorted[indexer] * weights, axis=axis) / sumval\n"
     ]
    },
    {
     "data": {
      "text/plain": [
       "[]"
      ]
     },
     "execution_count": 10,
     "metadata": {},
     "output_type": "execute_result"
    },
    {
     "data": {
      "image/png": "[encoded data removed]",
      "text/plain": [
       "<Figure size 1296x360 with 1 Axes>"
      ]
     },
     "metadata": {
      "needs_background": "light"
     },
     "output_type": "display_data"
    }
   ],
   "source": [
    "x = df[\"compound\"].fillna(-1)\n",
    "\n",
    "figsize=(18, 5)\n",
    "\n",
    "ticksize = 12\n",
    "titlesize = ticksize + 8\n",
    "labelsize = ticksize + 5\n",
    "\n",
    "params = {'figure.figsize' : figsize,\n",
    "          'axes.labelsize' : labelsize,\n",
    "          'axes.titlesize' : titlesize,\n",
    "          'xtick.labelsize': ticksize,\n",
    "          'ytick.labelsize': ticksize}\n",
    "\n",
    "plt.rcParams.update(params)\n",
    "sns.distplot(x)\n",
    "plt.plot()"
   ]
  },
  {
   "cell_type": "markdown",
   "metadata": {
    "_uuid": "498ac53969f7c96c9b4ada819fa65d80b95dacd0"
   },
   "source": [
    "## 4. Training Model"
   ]
  },
  {
   "cell_type": "code",
   "execution_count": 13,
   "metadata": {
    "_uuid": "94b58472944a5843de64f63e1624b757abb06bc1"
   },
   "outputs": [
    {
     "name": "stdout",
     "output_type": "stream",
     "text": [
      "[0.38       0.42285041 0.40919811]\n"
     ]
    }
   ],
   "source": [
    "from nltk.corpus import stopwords\n",
    "\n",
    "X = df\n",
    "\n",
    "X[\"review\"] = X[\"review\"].apply(lambda x: BeautifulSoup(x, \"lxml\").get_text())\n",
    "X[\"review\"] = X[\"review\"].apply(lambda x: x.lower())\n",
    "X[\"review\"] = X[\"review\"].apply(lambda x: re.sub(\"[^a-zA-Z]\", \" \", x))\n",
    "X[\"review\"] = X[\"review\"].apply(lambda x: re.sub(\"\\s+\", \" \", x))\n",
    "\n",
    "X = X[X[\"compound\"]>0.5]\n",
    "\n",
    "y = X[\"airline_sentiment\"]\n",
    "X = X[\"review\"]\n",
    "\n",
    "stopwords = stopwords.words('english')\n",
    "# vectorizer = TfidfVectorizer()\n",
    "vectorizer = CountVectorizer(stop_words=stopwords)\n",
    "\n",
    "X = vectorizer.fit_transform(X)\n",
    "\n",
    "model = RandomForestClassifier(n_estimators=5, n_jobs=-1, class_weight='balanced', random_state=0)\n",
    "# model = SVC()\n",
    "\n",
    "print(cross_val_score(model, X, y, cv=3))  "
   ]
  },
  {
   "cell_type": "markdown",
   "metadata": {
    "_uuid": "63bd6eb6b6e61629f6584772897655d98fa4253e"
   },
   "source": [
    "## 5. Deep Learning"
   ]
  },
  {
   "cell_type": "markdown",
   "metadata": {
    "_uuid": "727e5f0c3130d2df7403d96c743c8d4f4c3b7c4d"
   },
   "source": [
    "### 5.1 Output Configuration"
   ]
  },
  {
   "cell_type": "code",
   "execution_count": 15,
   "metadata": {
    "_uuid": "c8703accc04a96fda2e561b6e66e474a23dde81a"
   },
   "outputs": [
    {
     "ename": "NameError",
     "evalue": "name 'output_directory' is not defined",
     "output_type": "error",
     "traceback": [
      "\u001b[1;31m---------------------------------------------------------------------------\u001b[0m",
      "\u001b[1;31mNameError\u001b[0m                                 Traceback (most recent call last)",
      "\u001b[1;32m<ipython-input-15-78c5b38bcd24>\u001b[0m in \u001b[0;36m<module>\u001b[1;34m()\u001b[0m\n\u001b[1;32m----> 1\u001b[1;33m \u001b[0mmain_model_dir\u001b[0m \u001b[1;33m=\u001b[0m \u001b[0moutput_directory\u001b[0m \u001b[1;33m+\u001b[0m \u001b[1;34mr\"models/\"\u001b[0m\u001b[1;33m\u001b[0m\u001b[0m\n\u001b[0m\u001b[0;32m      2\u001b[0m \u001b[0mmain_log_dir\u001b[0m \u001b[1;33m=\u001b[0m \u001b[0moutput_directory\u001b[0m \u001b[1;33m+\u001b[0m \u001b[1;34mr\"logs/\"\u001b[0m\u001b[1;33m\u001b[0m\u001b[0m\n\u001b[0;32m      3\u001b[0m \u001b[1;33m\u001b[0m\u001b[0m\n\u001b[0;32m      4\u001b[0m \u001b[1;32mtry\u001b[0m\u001b[1;33m:\u001b[0m\u001b[1;33m\u001b[0m\u001b[0m\n\u001b[0;32m      5\u001b[0m     \u001b[0mos\u001b[0m\u001b[1;33m.\u001b[0m\u001b[0mmkdir\u001b[0m\u001b[1;33m(\u001b[0m\u001b[0mmain_model_dir\u001b[0m\u001b[1;33m)\u001b[0m\u001b[1;33m\u001b[0m\u001b[0m\n",
      "\u001b[1;31mNameError\u001b[0m: name 'output_directory' is not defined"
     ]
    }
   ],
   "source": [
    "main_model_dir = output_directory + r\"models/\"\n",
    "main_log_dir = output_directory + r\"logs/\"\n",
    "\n",
    "try:\n",
    "    os.mkdir(main_model_dir)\n",
    "except:\n",
    "    print(\"Could not create main model directory\")\n",
    "    \n",
    "try:\n",
    "    os.mkdir(main_log_dir)\n",
    "except:\n",
    "    print(\"Could not create main log directory\")\n",
    "\n",
    "\n",
    "\n",
    "model_dir = main_model_dir + time.strftime('%Y-%m-%d %H-%M-%S') + \"/\"\n",
    "log_dir = main_log_dir + time.strftime('%Y-%m-%d %H-%M-%S')\n",
    "\n",
    "\n",
    "try:\n",
    "    os.mkdir(model_dir)\n",
    "except:\n",
    "    print(\"Could not create model directory\")\n",
    "    \n",
    "try:\n",
    "    os.mkdir(log_dir)\n",
    "except:\n",
    "    print(\"Could not create log directory\")\n",
    "    \n",
    "model_file = model_dir + \"{epoch:02d}-val_acc-{val_acc:.2f}-val_loss-{val_loss:.2f}.hdf5\""
   ]
  },
  {
   "cell_type": "code",
   "execution_count": 15,
   "metadata": {
    "_uuid": "0eeca633f28358dbfafd3db7fd22518fc77a276a"
   },
   "outputs": [
    {
     "name": "stdout",
     "output_type": "stream",
     "text": [
      "Settting Callbacks\n",
      "Set Callbacks at  Timestamp: 2019-03-16 15:18:56\n"
     ]
    }
   ],
   "source": [
    "print(\"Settting Callbacks\")\n",
    "\n",
    "checkpoint = ModelCheckpoint(\n",
    "    model_file, \n",
    "    monitor='val_acc', \n",
    "    save_best_only=True)\n",
    "\n",
    "early_stopping = EarlyStopping(\n",
    "    monitor='val_loss',\n",
    "    patience=3,\n",
    "    verbose=1,\n",
    "    restore_best_weights=True)\n",
    "\n",
    "\n",
    "reduce_lr = ReduceLROnPlateau(\n",
    "    monitor='val_loss',\n",
    "    factor=0.5,\n",
    "    patience=1,\n",
    "    verbose=1)\n",
    "\n",
    "\n",
    "callbacks = [checkpoint, reduce_lr, early_stopping]\n",
    "\n",
    "# callbacks = [early_stopping]\n",
    "\n",
    "print(\"Set Callbacks at \", date_time(1))"
   ]
  },
  {
   "cell_type": "markdown",
   "metadata": {
    "_uuid": "42410b8507438ce15c28b5e9778908515dfaeb51"
   },
   "source": [
    "### 5.2. Preprocessing"
   ]
  },
  {
   "cell_type": "code",
   "execution_count": 16,
   "metadata": {
    "_uuid": "c97ce5c809f58080f13ab1da76fbeff96817a321"
   },
   "outputs": [
    {
     "data": {
      "text/plain": [
       "array([[0., 1., 0.],\n",
       "       [0., 0., 1.],\n",
       "       [0., 1., 0.],\n",
       "       ...,\n",
       "       [0., 1., 0.],\n",
       "       [1., 0., 0.],\n",
       "       [0., 1., 0.]], dtype=float32)"
      ]
     },
     "execution_count": 16,
     "metadata": {},
     "output_type": "execute_result"
    }
   ],
   "source": [
    "X = df.text\n",
    "Y = df.airline_sentiment\n",
    "\n",
    "label_encoder = LabelEncoder()\n",
    "\n",
    "Y = label_encoder.fit_transform(Y)\n",
    "\n",
    "Y = to_categorical(Y)\n",
    "\n",
    "# Y = Y.reshape(-1, 1)\n",
    "Y"
   ]
  },
  {
   "cell_type": "code",
   "execution_count": 17,
   "metadata": {
    "_uuid": "972b31926122af0747be40fa2b5d3bf14dcbe16a"
   },
   "outputs": [
    {
     "data": {
      "text/plain": [
       "(12466, 176)"
      ]
     },
     "execution_count": 17,
     "metadata": {},
     "output_type": "execute_result"
    }
   ],
   "source": [
    "X_train, X_test, Y_train, Y_test = train_test_split(X, Y, test_size=0.15)\n",
    "\n",
    "max_words = len(set(\" \".join(X_train).split()))\n",
    "max_len = X_train.apply(lambda x: len(x)).max()\n",
    "\n",
    "# max_words = 1000\n",
    "# max_len = 150\n",
    "max_words, max_len"
   ]
  },
  {
   "cell_type": "code",
   "execution_count": 18,
   "metadata": {
    "_uuid": "6f82546a785e1eba0e6df397078497dffc94e902"
   },
   "outputs": [],
   "source": [
    "tokenizer = Tokenizer(num_words=max_words)\n",
    "\n",
    "tokenizer.fit_on_texts(X_train)\n",
    "\n",
    "X_train_seq = tokenizer.texts_to_sequences(X_train)\n",
    "X_train_seq = sequence.pad_sequences(X_train_seq, maxlen=max_len)"
   ]
  },
  {
   "cell_type": "code",
   "execution_count": 19,
   "metadata": {
    "_uuid": "15756f1979d321902f18964c00c515fb31342613"
   },
   "outputs": [],
   "source": [
    "# Calculate Class Weights\n",
    "def get_weight(y):\n",
    "    class_weight_current =  cw.compute_class_weight('balanced', np.unique(y), y)\n",
    "    return class_weight_current"
   ]
  },
  {
   "cell_type": "code",
   "execution_count": 20,
   "metadata": {
    "_uuid": "f65f33959fa6abe41bfea8c660414a757ac048bf"
   },
   "outputs": [],
   "source": [
    "class_weight = get_weight(Y_train.flatten())"
   ]
  },
  {
   "cell_type": "markdown",
   "metadata": {
    "_uuid": "19a3f4532b9398234b6f78e758688d7903d6b66b"
   },
   "source": [
    "### 5.3 Model"
   ]
  },
  {
   "cell_type": "code",
   "execution_count": 21,
   "metadata": {
    "_uuid": "ffc3ae3a4fb844cd20a9cb33750de42b2c71392d"
   },
   "outputs": [],
   "source": [
    "def get_rnn_model(num_class=2):\n",
    "    model = Sequential()\n",
    "    \n",
    "    model.add(Embedding(max_words, 100, input_length=max_len))\n",
    "    model.add(LSTM(256))\n",
    "    \n",
    "    model.add(Dropout(0.5))\n",
    "    model.add(BatchNormalization())\n",
    "    model.add(Dropout(0.5))\n",
    "    \n",
    "    model.add(Dense(512, activation='relu'))\n",
    "    \n",
    "    model.add(Dropout(0.5))\n",
    "    model.add(BatchNormalization())\n",
    "    model.add(Dropout(0.5))\n",
    "    \n",
    "    if num_class>2:\n",
    "        model.add(Dense(num_class, activation='softmax'))\n",
    "    else:\n",
    "        model.add(Dense(1, activation='sigmoid'))\n",
    "    \n",
    "    model.summary()\n",
    "    \n",
    "    return model\n",
    "\n",
    "\n",
    "def get_cnn_model(num_class=2):   \n",
    "    model = Sequential()\n",
    "    \n",
    "    model.add(Embedding(max_words, 100, input_length=max_len))\n",
    "    \n",
    "    model.add(Conv1D(1024, 3, padding='valid', activation='relu', strides=1))\n",
    "    model.add(GlobalMaxPooling1D())\n",
    "    \n",
    "    \n",
    "    model.add(Dropout(0.5))\n",
    "    model.add(BatchNormalization())\n",
    "    model.add(Dropout(0.5))\n",
    "    \n",
    "    model.add(Dense(2048, activation='relu'))\n",
    "    \n",
    "    model.add(Dropout(0.5))\n",
    "    model.add(BatchNormalization())\n",
    "    model.add(Dropout(0.5))\n",
    "    \n",
    "    if num_class>2:\n",
    "        model.add(Dense(num_class, activation='softmax'))\n",
    "    else:\n",
    "        model.add(Dense(1, activation='sigmoid'))\n",
    "    \n",
    "    model.summary()\n",
    "    return model"
   ]
  },
  {
   "cell_type": "code",
   "execution_count": 22,
   "metadata": {
    "_uuid": "a5472569b1c7c8f13fe14c9dcac3a7957db1300e"
   },
   "outputs": [],
   "source": [
    "def plot_performance(history=None, figure_directory=None, ylim_pad=[0, 0]):\n",
    "    xlabel = 'Epoch'\n",
    "    legends = ['Training', 'Validation']\n",
    "\n",
    "    plt.figure(figsize=(20, 5))\n",
    "\n",
    "    y1 = history.history['acc']\n",
    "    y2 = history.history['val_acc']\n",
    "\n",
    "    min_y = min(min(y1), min(y2))-ylim_pad[0]\n",
    "    max_y = max(max(y1), max(y2))+ylim_pad[0]\n",
    "\n",
    "\n",
    "    plt.subplot(121)\n",
    "\n",
    "    plt.plot(y1)\n",
    "    plt.plot(y2)\n",
    "\n",
    "    plt.title('Model Accuracy\\n'+date_time(1), fontsize=17)\n",
    "    plt.xlabel(xlabel, fontsize=15)\n",
    "    plt.ylabel('Accuracy', fontsize=15)\n",
    "    plt.ylim(min_y, max_y)\n",
    "    plt.legend(legends, loc='upper left')\n",
    "    plt.grid()\n",
    "\n",
    "    y1 = history.history['loss']\n",
    "    y2 = history.history['val_loss']\n",
    "\n",
    "    min_y = min(min(y1), min(y2))-ylim_pad[1]\n",
    "    max_y = max(max(y1), max(y2))+ylim_pad[1]\n",
    "\n",
    "\n",
    "    plt.subplot(122)\n",
    "\n",
    "    plt.plot(y1)\n",
    "    plt.plot(y2)\n",
    "\n",
    "    plt.title('Model Loss\\n'+date_time(1), fontsize=17)\n",
    "    plt.xlabel(xlabel, fontsize=15)\n",
    "    plt.ylabel('Loss', fontsize=15)\n",
    "    plt.ylim(min_y, max_y)\n",
    "    plt.legend(legends, loc='upper left')\n",
    "    plt.grid()\n",
    "    if figure_directory:\n",
    "        plt.savefig(figure_directory+\"/history\")\n",
    "\n",
    "    plt.show()\n"
   ]
  },
  {
   "cell_type": "code",
   "execution_count": 23,
   "metadata": {
    "_uuid": "b424eb9a6e314ef397df89dcfeffc4c9c15839ee"
   },
   "outputs": [
    {
     "name": "stdout",
     "output_type": "stream",
     "text": [
      "_________________________________________________________________\n",
      "Layer (type)                 Output Shape              Param #   \n",
      "=================================================================\n",
      "embedding_1 (Embedding)      (None, 176, 100)          1246600   \n",
      "_________________________________________________________________\n",
      "lstm_1 (LSTM)                (None, 256)               365568    \n",
      "_________________________________________________________________\n",
      "dropout_1 (Dropout)          (None, 256)               0         \n",
      "_________________________________________________________________\n",
      "batch_normalization_1 (Batch (None, 256)               1024      \n",
      "_________________________________________________________________\n",
      "dropout_2 (Dropout)          (None, 256)               0         \n",
      "_________________________________________________________________\n",
      "dense_1 (Dense)              (None, 512)               131584    \n",
      "_________________________________________________________________\n",
      "dropout_3 (Dropout)          (None, 512)               0         \n",
      "_________________________________________________________________\n",
      "batch_normalization_2 (Batch (None, 512)               2048      \n",
      "_________________________________________________________________\n",
      "dropout_4 (Dropout)          (None, 512)               0         \n",
      "_________________________________________________________________\n",
      "dense_2 (Dense)              (None, 3)                 1539      \n",
      "=================================================================\n",
      "Total params: 1,748,363\n",
      "Trainable params: 1,746,827\n",
      "Non-trainable params: 1,536\n",
      "_________________________________________________________________\n"
     ]
    }
   ],
   "source": [
    "num_class = 3\n",
    "model1 = get_rnn_model(num_class=num_class)"
   ]
  },
  {
   "cell_type": "code",
   "execution_count": 24,
   "metadata": {
    "_uuid": "72903b1167548759e416d9b8ba643fdf90305e06"
   },
   "outputs": [],
   "source": [
    "loss = 'categorical_crossentropy'\n",
    "# loss = 'binary_crossentropy'\n",
    "metrics = ['accuracy']"
   ]
  },
  {
   "cell_type": "markdown",
   "metadata": {
    "_uuid": "2bd1166ccac602ca7d908e9f9b17c8ffb2a1f92c"
   },
   "source": [
    "## 10.3. Model Trainning"
   ]
  },
  {
   "cell_type": "markdown",
   "metadata": {
    "_uuid": "a1ce715c032b60131950b0946776b41040ec97f4"
   },
   "source": [
    "### 10.3.1. RNN"
   ]
  },
  {
   "cell_type": "code",
   "execution_count": 25,
   "metadata": {
    "_uuid": "3499506821ecfcfa499a1195742796152939cc94"
   },
   "outputs": [
    {
     "name": "stdout",
     "output_type": "stream",
     "text": [
      "Starting...\n",
      "\n",
      "Timestamp: 2019-03-16 15:18:57\n",
      "\n",
      "\n",
      "Compliling Model ...\n",
      "\n",
      "Trainning Model ...\n",
      "\n",
      "Train on 9955 samples, validate on 2489 samples\n",
      "Epoch 1/100\n",
      "9955/9955 [==============================] - 29s 3ms/step - loss: 1.4276 - acc: 0.5213 - val_loss: 0.9035 - val_acc: 0.6689\n",
      "Epoch 2/100\n",
      "9955/9955 [==============================] - 27s 3ms/step - loss: 0.8321 - acc: 0.6702 - val_loss: 0.6435 - val_acc: 0.7405\n",
      "Epoch 3/100\n",
      "9955/9955 [==============================] - 27s 3ms/step - loss: 0.5275 - acc: 0.7827 - val_loss: 0.6807 - val_acc: 0.7589\n",
      "\n",
      "Epoch 00003: ReduceLROnPlateau reducing learning rate to 0.0005000000237487257.\n",
      "Epoch 4/100\n",
      "9955/9955 [==============================] - 27s 3ms/step - loss: 0.3445 - acc: 0.8693 - val_loss: 0.8868 - val_acc: 0.7087\n",
      "\n",
      "Epoch 00004: ReduceLROnPlateau reducing learning rate to 0.0002500000118743628.\n",
      "Epoch 5/100\n",
      "9955/9955 [==============================] - 27s 3ms/step - loss: 0.2687 - acc: 0.8983 - val_loss: 0.6964 - val_acc: 0.7702\n",
      "\n",
      "Epoch 00005: ReduceLROnPlateau reducing learning rate to 0.0001250000059371814.\n",
      "Restoring model weights from the end of the best epoch\n",
      "Epoch 00005: early stopping\n",
      "\n",
      "Elapsed Time: 00:02:18\n",
      "Completed Model Trainning Timestamp: 2019-03-16 15:21:15\n"
     ]
    }
   ],
   "source": [
    "print(\"Starting...\\n\")\n",
    "\n",
    "start_time = time.time()\n",
    "print(date_time(1))\n",
    "\n",
    "print(\"\\n\\nCompliling Model ...\\n\")\n",
    "learning_rate = 0.001\n",
    "optimizer = Adam(learning_rate)\n",
    "# optimizer = Adam()\n",
    "\n",
    "model1.compile(optimizer=optimizer, loss=loss, metrics=metrics)\n",
    "\n",
    "verbose = 1\n",
    "epochs = 100\n",
    "batch_size = 128\n",
    "validation_split = 0.2\n",
    "\n",
    "print(\"Trainning Model ...\\n\")\n",
    "\n",
    "history1 = model1.fit(\n",
    "    X_train_seq,\n",
    "    Y_train,\n",
    "    batch_size=batch_size,\n",
    "    epochs=epochs,\n",
    "    verbose=verbose,\n",
    "    callbacks=callbacks,\n",
    "    validation_split=validation_split,\n",
    "    class_weight =class_weight\n",
    "    )\n",
    "\n",
    "elapsed_time = time.time() - start_time\n",
    "elapsed_time = time.strftime(\"%H:%M:%S\", time.gmtime(elapsed_time))\n",
    "\n",
    "print(\"\\nElapsed Time: \" + elapsed_time)\n",
    "print(\"Completed Model Trainning\", date_time(1))"
   ]
  },
  {
   "cell_type": "markdown",
   "metadata": {
    "_uuid": "174b2e76795372f6e7d09d6fa48579f782609b78"
   },
   "source": [
    "#### 10.3.1.2  Visualization"
   ]
  },
  {
   "cell_type": "code",
   "execution_count": 26,
   "metadata": {
    "_uuid": "5e6865d7574bb08bfc6e20ce51c8c0a6ab39ef4c"
   },
   "outputs": [
    {
     "data": {
      "image/png": "[encoded data removed]",
      "text/plain": [
       "<Figure size 1440x360 with 2 Axes>"
      ]
     },
     "metadata": {},
     "output_type": "display_data"
    }
   ],
   "source": [
    "plot_performance(history=history1)"
   ]
  },
  {
   "cell_type": "markdown",
   "metadata": {
    "_uuid": "29bb4e66b2f030e88d88ca12d48209a93991647c"
   },
   "source": [
    "### 10.3.1. RNN"
   ]
  },
  {
   "cell_type": "code",
   "execution_count": 27,
   "metadata": {
    "_uuid": "106063a66e2031658fd6649c2bc68ff54a2d6e9a"
   },
   "outputs": [
    {
     "name": "stdout",
     "output_type": "stream",
     "text": [
      "_________________________________________________________________\n",
      "Layer (type)                 Output Shape              Param #   \n",
      "=================================================================\n",
      "embedding_2 (Embedding)      (None, 176, 100)          1246600   \n",
      "_________________________________________________________________\n",
      "conv1d_1 (Conv1D)            (None, 174, 1024)         308224    \n",
      "_________________________________________________________________\n",
      "global_max_pooling1d_1 (Glob (None, 1024)              0         \n",
      "_________________________________________________________________\n",
      "dropout_5 (Dropout)          (None, 1024)              0         \n",
      "_________________________________________________________________\n",
      "batch_normalization_3 (Batch (None, 1024)              4096      \n",
      "_________________________________________________________________\n",
      "dropout_6 (Dropout)          (None, 1024)              0         \n",
      "_________________________________________________________________\n",
      "dense_3 (Dense)              (None, 2048)              2099200   \n",
      "_________________________________________________________________\n",
      "dropout_7 (Dropout)          (None, 2048)              0         \n",
      "_________________________________________________________________\n",
      "batch_normalization_4 (Batch (None, 2048)              8192      \n",
      "_________________________________________________________________\n",
      "dropout_8 (Dropout)          (None, 2048)              0         \n",
      "_________________________________________________________________\n",
      "dense_4 (Dense)              (None, 3)                 6147      \n",
      "=================================================================\n",
      "Total params: 3,672,459\n",
      "Trainable params: 3,666,315\n",
      "Non-trainable params: 6,144\n",
      "_________________________________________________________________\n"
     ]
    }
   ],
   "source": [
    "num_class = 3\n",
    "model2 = get_cnn_model(num_class=num_class)"
   ]
  },
  {
   "cell_type": "code",
   "execution_count": 28,
   "metadata": {
    "_uuid": "f15fae20f343530b2e83e9c890fe674fc0d3ea1a",
    "scrolled": false
   },
   "outputs": [
    {
     "name": "stdout",
     "output_type": "stream",
     "text": [
      "Starting...\n",
      "\n",
      "Timestamp: 2019-03-16 15:21:16\n",
      "\n",
      "\n",
      "Compliling Model ...\n",
      "\n",
      "Trainning Model ...\n",
      "\n",
      "Train on 9955 samples, validate on 2489 samples\n",
      "Epoch 1/100\n",
      "9955/9955 [==============================] - 5s 500us/step - loss: 1.4042 - acc: 0.5215 - val_loss: 0.6624 - val_acc: 0.7368\n",
      "Epoch 2/100\n",
      "9955/9955 [==============================] - 2s 168us/step - loss: 0.8706 - acc: 0.6809 - val_loss: 0.6180 - val_acc: 0.7429\n",
      "Epoch 3/100\n",
      "9955/9955 [==============================] - 2s 168us/step - loss: 0.6106 - acc: 0.7645 - val_loss: 0.5908 - val_acc: 0.7553\n",
      "Epoch 4/100\n",
      "9955/9955 [==============================] - 2s 169us/step - loss: 0.4498 - acc: 0.8310 - val_loss: 0.5640 - val_acc: 0.7867\n",
      "Epoch 5/100\n",
      "9955/9955 [==============================] - 2s 168us/step - loss: 0.3546 - acc: 0.8670 - val_loss: 0.5955 - val_acc: 0.7758\n",
      "\n",
      "Epoch 00005: ReduceLROnPlateau reducing learning rate to 0.0005000000237487257.\n",
      "Epoch 6/100\n",
      "9955/9955 [==============================] - 2s 167us/step - loss: 0.2523 - acc: 0.9056 - val_loss: 0.6477 - val_acc: 0.7746\n",
      "\n",
      "Epoch 00006: ReduceLROnPlateau reducing learning rate to 0.0002500000118743628.\n",
      "Epoch 7/100\n",
      "9955/9955 [==============================] - 2s 167us/step - loss: 0.1873 - acc: 0.9306 - val_loss: 0.6793 - val_acc: 0.7750\n",
      "\n",
      "Epoch 00007: ReduceLROnPlateau reducing learning rate to 0.0001250000059371814.\n",
      "Restoring model weights from the end of the best epoch\n",
      "Epoch 00007: early stopping\n",
      "\n",
      "Elapsed Time: 00:00:16\n",
      "Completed Model Trainning Timestamp: 2019-03-16 15:21:33\n"
     ]
    }
   ],
   "source": [
    "print(\"Starting...\\n\")\n",
    "\n",
    "start_time = time.time()\n",
    "print(date_time(1))\n",
    "\n",
    "print(\"\\n\\nCompliling Model ...\\n\")\n",
    "learning_rate = 0.001\n",
    "optimizer = Adam(learning_rate)\n",
    "# optimizer = Adam()\n",
    "\n",
    "model2.compile(optimizer=optimizer, loss=loss, metrics=metrics)\n",
    "\n",
    "verbose = 1\n",
    "epochs = 100\n",
    "batch_size = 128\n",
    "validation_split = 0.2\n",
    "\n",
    "print(\"Trainning Model ...\\n\")\n",
    "\n",
    "history2 = model2.fit(\n",
    "    X_train_seq,\n",
    "    Y_train,\n",
    "    batch_size=batch_size,\n",
    "    epochs=epochs,\n",
    "    verbose=verbose,\n",
    "    callbacks=callbacks,\n",
    "    validation_split=validation_split,\n",
    "    class_weight =class_weight\n",
    "    )\n",
    "\n",
    "elapsed_time = time.time() - start_time\n",
    "elapsed_time = time.strftime(\"%H:%M:%S\", time.gmtime(elapsed_time))\n",
    "\n",
    "print(\"\\nElapsed Time: \" + elapsed_time)\n",
    "print(\"Completed Model Trainning\", date_time(1))"
   ]
  },
  {
   "cell_type": "markdown",
   "metadata": {
    "_uuid": "357b590e09d3e623822c3e68b280ef42db952075"
   },
   "source": [
    "#### 10.3.1.2 Visualization"
   ]
  },
  {
   "cell_type": "code",
   "execution_count": 29,
   "metadata": {
    "_uuid": "50d81ffc4f78b45a59b7f08ec404d008a3c63f94"
   },
   "outputs": [
    {
     "data": {
      "image/png": "[encoded data removed]",
      "text/plain": [
       "<Figure size 1440x360 with 2 Axes>"
      ]
     },
     "metadata": {},
     "output_type": "display_data"
    }
   ],
   "source": [
    "plot_performance(history=history2)"
   ]
  },
  {
   "cell_type": "markdown",
   "metadata": {
    "_uuid": "b64920b6ac5a1bb4e60f1d937245007292dd1681"
   },
   "source": [
    "## 10.5 Inference/ Prediction"
   ]
  },
  {
   "cell_type": "code",
   "execution_count": 30,
   "metadata": {
    "_uuid": "a6e1d8e3639c5e739a67c484b00faf148fa6edd4"
   },
   "outputs": [
    {
     "name": "stdout",
     "output_type": "stream",
     "text": [
      "2196/2196 [==============================] - 7s 3ms/step\n",
      "2196/2196 [==============================] - 0s 74us/step\n"
     ]
    }
   ],
   "source": [
    "test_X_seq = tokenizer.texts_to_sequences(X_test)\n",
    "test_X_seq = sequence.pad_sequences(test_X_seq, maxlen=max_len)\n",
    "accuracy1 = model1.evaluate(test_X_seq, Y_test)\n",
    "accuracy2 = model2.evaluate(test_X_seq, Y_test)"
   ]
  },
  {
   "cell_type": "markdown",
   "metadata": {
    "_uuid": "08c78c65d45aaa855de2d16533dc5ddeb1a52c9b"
   },
   "source": [
    "### 10.5.1 Evaluation"
   ]
  },
  {
   "cell_type": "code",
   "execution_count": 31,
   "metadata": {
    "_uuid": "fd3d9e8a332ab50eb69d3995fa0847c642ca942d"
   },
   "outputs": [
    {
     "name": "stdout",
     "output_type": "stream",
     "text": [
      "Model Performance of RNN (Test Accuracy):\n",
      "Accuracy: 74.27%\n",
      "Loss: 0.684\n",
      "\n",
      "\n",
      "Model Performance of RNN (Test Accuracy):\n",
      "v: 79.64%\n",
      "Loss: 0.563\n",
      "\n"
     ]
    }
   ],
   "source": [
    "print(\"Model Performance of RNN (Test Accuracy):\")\n",
    "print('Accuracy: {:0.2f}%\\nLoss: {:0.3f}\\n'.format(accuracy1[1]*100, accuracy1[0]))\n",
    "\n",
    "print(\"\\nModel Performance of RNN (Test Accuracy):\")\n",
    "print('v: {:0.2f}%\\nLoss: {:0.3f}\\n'.format(accuracy2[1]*100, accuracy2[0]))"
   ]
  },
  {
   "cell_type": "code",
   "execution_count": 32,
   "metadata": {
    "_uuid": "68d1b5720cecae415e852c1f35563da08cfea2b5"
   },
   "outputs": [
    {
     "name": "stdout",
     "output_type": "stream",
     "text": [
      "2196/2196 [==============================] - 8s 4ms/step\n",
      "2196/2196 [==============================] - 0s 147us/step\n"
     ]
    }
   ],
   "source": [
    "ypreds1 = model1.predict_classes(test_X_seq, verbose=1)\n",
    "ypreds2 = model2.predict_classes(test_X_seq, verbose=1)"
   ]
  },
  {
   "cell_type": "code",
   "execution_count": 33,
   "metadata": {
    "_uuid": "3feb7baf3e5658dce6bdcf929af34676b5f23fd7"
   },
   "outputs": [],
   "source": [
    "def plot_model_performace(result):\n",
    "    sns.set_style(\"ticks\")\n",
    "    figsize=(22, 6)\n",
    "\n",
    "    ticksize = 12\n",
    "    titlesize = ticksize + 8\n",
    "    labelsize = ticksize + 5\n",
    "\n",
    "    xlabel = \"Model\"\n",
    "    ylabel = \"Score\"\n",
    "\n",
    "    title = \"Model Performance\"\n",
    "\n",
    "    params = {'figure.figsize' : figsize,\n",
    "              'axes.labelsize' : labelsize,\n",
    "              'axes.titlesize' : titlesize,\n",
    "              'xtick.labelsize': ticksize,\n",
    "              'ytick.labelsize': ticksize}\n",
    "\n",
    "    plt.rcParams.update(params)\n",
    "\n",
    "    col1 = \"model\"\n",
    "    col2 = \"score\"\n",
    "    sns.barplot(x=col1, y=col2, data=result)\n",
    "    plt.title(title.title())\n",
    "    plt.xlabel(xlabel)\n",
    "    plt.ylabel(ylabel)\n",
    "    plt.xticks(rotation=90)\n",
    "    plt.grid()\n",
    "    plt.plot()\n",
    "    plt.show()\n",
    "    print(result)"
   ]
  },
  {
   "cell_type": "code",
   "execution_count": 34,
   "metadata": {
    "_uuid": "dc19b344d18b16e4f15d4b21eb86bf6acde8c2f0"
   },
   "outputs": [],
   "source": [
    "# print(classification_report(Y_test, ypreds1))"
   ]
  },
  {
   "cell_type": "code",
   "execution_count": 36,
   "metadata": {
    "_uuid": "0fc73dddd076f5c15ff41a9dff2abf47d7126589"
   },
   "outputs": [],
   "source": [
    "# print(classification_report(Y_test, ypreds2))"
   ]
  },
  {
   "cell_type": "markdown",
   "metadata": {
    "_uuid": "73e7f87fdfb70dd3eddabd607a9eefb96a086831"
   },
   "source": [
    "#### 10.5.1.2 Visualization"
   ]
  },
  {
   "cell_type": "code",
   "execution_count": 37,
   "metadata": {
    "_uuid": "675a75e41d24b34491a9b9e310b30803b90e9188"
   },
   "outputs": [],
   "source": [
    "# plot_confusion_matrix(Y_test, ypreds2, title=\"CNN\")"
   ]
  },
  {
   "cell_type": "code",
   "execution_count": 38,
   "metadata": {
    "_uuid": "6679f27d3d8d66fcc4c99d3183821051f823f688"
   },
   "outputs": [
    {
     "name": "stderr",
     "output_type": "stream",
     "text": [
      "/opt/conda/lib/python3.6/site-packages/ipykernel_launcher.py:3: DeprecationWarning: \n",
      ".ix is deprecated. Please use\n",
      ".loc for label based indexing or\n",
      ".iloc for positional indexing\n",
      "\n",
      "See the documentation here:\n",
      "http://pandas.pydata.org/pandas-docs/stable/indexing.html#ix-indexer-is-deprecated\n",
      "  This is separate from the ipykernel package so we can avoid doing imports until\n"
     ]
    }
   ],
   "source": [
    "result = pd.DataFrame({'model': 'RNN', 'score': accuracy1[1]*100}, index=[-1])\n",
    "row2 = pd.DataFrame({'model': 'CNN', 'score': accuracy2[1]*100}, index=[-1])\n",
    "result = pd.concat([row2, result.ix[:]]).reset_index(drop=True)"
   ]
  },
  {
   "cell_type": "code",
   "execution_count": 39,
   "metadata": {
    "_uuid": "fa8ce5f06a1b2884dd5b1c113dcd041c86aa26bb"
   },
   "outputs": [
    {
     "data": {
      "image/png": "[encoded data removed]",
      "text/plain": [
       "<Figure size 1584x432 with 1 Axes>"
      ]
     },
     "metadata": {},
     "output_type": "display_data"
    },
    {
     "name": "stdout",
     "output_type": "stream",
     "text": [
      "  model      score\n",
      "0   CNN  79.644809\n",
      "1   RNN  74.271403\n"
     ]
    }
   ],
   "source": [
    "plot_model_performace(result)"
   ]
  },
  {
   "cell_type": "code",
   "execution_count": 40,
   "metadata": {
    "_uuid": "4508c011e7f7449b027acc000decbf6561e69ca0"
   },
   "outputs": [],
   "source": []
  },
  {
   "cell_type": "code",
   "execution_count": 40,
   "metadata": {
    "_uuid": "a44c65a66fdfbf03738c03f4eaeb90c2166a45d2"
   },
   "outputs": [],
   "source": []
  }
 ],
 "metadata": {
  "kernelspec": {
   "display_name": "Python 3",
   "language": "python",
   "name": "python3"
  },
  "language_info": {
   "codemirror_mode": {
    "name": "ipython",
    "version": 3
   },
   "file_extension": ".py",
   "mimetype": "text/x-python",
   "name": "python",
   "nbconvert_exporter": "python",
   "pygments_lexer": "ipython3",
   "version": "3.8.5"
  }
 },
 "nbformat": 4,
 "nbformat_minor": 1
}
